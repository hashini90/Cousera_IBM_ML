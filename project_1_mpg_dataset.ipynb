{
 "cells": [
  {
   "cell_type": "markdown",
   "id": "89dd91f2",
   "metadata": {},
   "source": [
    "Source:\n",
    "This dataset was taken from the StatLib library which is maintained at Carnegie Mellon University. The dataset was used in the 1983 American Statistical Association Exposition.\n",
    "\n",
    "\n",
    "Data Set Information:\n",
    "This dataset is a slightly modified version of the dataset provided in the StatLib library. In line with the use by Ross Quinlan (1993) in predicting the attribute \"mpg\", 8 of the original instances were removed because they had unknown values for the \"mpg\" attribute. The original dataset is available in the file \"auto-mpg.data-original\".\n",
    "\n",
    "\"The data concerns city-cycle fuel consumption in miles per gallon, to be predicted in terms of 3 multivalued discrete and 5 continuous attributes.\" (Quinlan, 1993)\n",
    "\n",
    "\n",
    "Attribute Information:\n",
    "1. mpg: continuous\n",
    "2. cylinders: multi-valued discrete\n",
    "3. displacement: continuous\n",
    "4. horsepower: continuous\n",
    "5. weight: continuous\n",
    "6. acceleration: continuous\n",
    "7. model year: multi-valued discrete\n",
    "8. origin: multi-valued discrete\n",
    "9. car name: string (unique for each instance)\n",
    "\n",
    "Target variable is miles per gallon. All other variables are considered as independent variables or features. First, I look at the target variable. Then, I look at the nature of x-variables or features. I use boxplots to see the nature of continuous variables and histograms for discrete variables (ex: cylinders, origin, and year)\n",
    "\n",
    "The purpose of the data analysis is develop a model to predict mpg using given features of a particular car\n",
    "\n",
    "Data cleaning:\n",
    "There were no nan values. However, at a closer look, Horsepower has object data type which supposed to be either int or float. When looked at closely, there are some values indicated by '?'. Since, it was only a few rows, we removed the rows corresponding to that. "
   ]
  },
  {
   "cell_type": "code",
   "execution_count": 28,
   "id": "05b45b2e",
   "metadata": {},
   "outputs": [],
   "source": [
    "import numpy as np\n",
    "import pandas as pd\n",
    "import matplotlib.pyplot as plt\n",
    "import seaborn as sns\n",
    "from scipy import stats\n",
    "%matplotlib inline"
   ]
  },
  {
   "cell_type": "code",
   "execution_count": 29,
   "id": "c71a5fc4",
   "metadata": {},
   "outputs": [],
   "source": [
    "#load data\n",
    "data =  pd.read_csv('auto-mpg_data.csv',sep=\",\")\n",
    "\n",
    "# Add column names\n",
    "data.columns =['mpg', 'Cylinders', 'Displacement', 'Horsepower','Weight','Acceleration','Year','Origin','Name']"
   ]
  },
  {
   "cell_type": "code",
   "execution_count": 30,
   "id": "d00229ed",
   "metadata": {},
   "outputs": [
    {
     "data": {
      "text/html": [
       "<div>\n",
       "<style scoped>\n",
       "    .dataframe tbody tr th:only-of-type {\n",
       "        vertical-align: middle;\n",
       "    }\n",
       "\n",
       "    .dataframe tbody tr th {\n",
       "        vertical-align: top;\n",
       "    }\n",
       "\n",
       "    .dataframe thead th {\n",
       "        text-align: right;\n",
       "    }\n",
       "</style>\n",
       "<table border=\"1\" class=\"dataframe\">\n",
       "  <thead>\n",
       "    <tr style=\"text-align: right;\">\n",
       "      <th></th>\n",
       "      <th>mpg</th>\n",
       "      <th>Cylinders</th>\n",
       "      <th>Displacement</th>\n",
       "      <th>Horsepower</th>\n",
       "      <th>Weight</th>\n",
       "      <th>Acceleration</th>\n",
       "      <th>Year</th>\n",
       "      <th>Origin</th>\n",
       "      <th>Name</th>\n",
       "    </tr>\n",
       "  </thead>\n",
       "  <tbody>\n",
       "    <tr>\n",
       "      <th>0</th>\n",
       "      <td>15.0</td>\n",
       "      <td>8</td>\n",
       "      <td>350.0</td>\n",
       "      <td>165</td>\n",
       "      <td>3693</td>\n",
       "      <td>11.5</td>\n",
       "      <td>70</td>\n",
       "      <td>1</td>\n",
       "      <td>buick skylark 320</td>\n",
       "    </tr>\n",
       "    <tr>\n",
       "      <th>1</th>\n",
       "      <td>18.0</td>\n",
       "      <td>8</td>\n",
       "      <td>318.0</td>\n",
       "      <td>150</td>\n",
       "      <td>3436</td>\n",
       "      <td>11.0</td>\n",
       "      <td>70</td>\n",
       "      <td>1</td>\n",
       "      <td>plymouth satellite</td>\n",
       "    </tr>\n",
       "    <tr>\n",
       "      <th>2</th>\n",
       "      <td>16.0</td>\n",
       "      <td>8</td>\n",
       "      <td>304.0</td>\n",
       "      <td>150</td>\n",
       "      <td>3433</td>\n",
       "      <td>12.0</td>\n",
       "      <td>70</td>\n",
       "      <td>1</td>\n",
       "      <td>amc rebel sst</td>\n",
       "    </tr>\n",
       "    <tr>\n",
       "      <th>3</th>\n",
       "      <td>17.0</td>\n",
       "      <td>8</td>\n",
       "      <td>302.0</td>\n",
       "      <td>140</td>\n",
       "      <td>3449</td>\n",
       "      <td>10.5</td>\n",
       "      <td>70</td>\n",
       "      <td>1</td>\n",
       "      <td>ford torino</td>\n",
       "    </tr>\n",
       "    <tr>\n",
       "      <th>4</th>\n",
       "      <td>15.0</td>\n",
       "      <td>8</td>\n",
       "      <td>429.0</td>\n",
       "      <td>198</td>\n",
       "      <td>4341</td>\n",
       "      <td>10.0</td>\n",
       "      <td>70</td>\n",
       "      <td>1</td>\n",
       "      <td>ford galaxie 500</td>\n",
       "    </tr>\n",
       "  </tbody>\n",
       "</table>\n",
       "</div>"
      ],
      "text/plain": [
       "    mpg  Cylinders  Displacement Horsepower  Weight  Acceleration  Year  \\\n",
       "0  15.0          8         350.0        165    3693          11.5    70   \n",
       "1  18.0          8         318.0        150    3436          11.0    70   \n",
       "2  16.0          8         304.0        150    3433          12.0    70   \n",
       "3  17.0          8         302.0        140    3449          10.5    70   \n",
       "4  15.0          8         429.0        198    4341          10.0    70   \n",
       "\n",
       "   Origin                Name  \n",
       "0       1   buick skylark 320  \n",
       "1       1  plymouth satellite  \n",
       "2       1       amc rebel sst  \n",
       "3       1         ford torino  \n",
       "4       1    ford galaxie 500  "
      ]
     },
     "execution_count": 30,
     "metadata": {},
     "output_type": "execute_result"
    }
   ],
   "source": [
    "data.head()"
   ]
  },
  {
   "cell_type": "code",
   "execution_count": 31,
   "id": "85deb337",
   "metadata": {},
   "outputs": [
    {
     "data": {
      "text/plain": [
       "(array([13., 78., 72., 61., 54., 48., 38., 22.,  5.,  6.]),\n",
       " array([ 9.  , 12.76, 16.52, 20.28, 24.04, 27.8 , 31.56, 35.32, 39.08,\n",
       "        42.84, 46.6 ]),\n",
       " <BarContainer object of 10 artists>)"
      ]
     },
     "execution_count": 31,
     "metadata": {},
     "output_type": "execute_result"
    },
    {
     "data": {
      "image/png": "[encoded data removed]",
      "text/plain": [
       "<Figure size 432x288 with 1 Axes>"
      ]
     },
     "metadata": {
      "needs_background": "light"
     },
     "output_type": "display_data"
    }
   ],
   "source": [
    "# plot y variable- mpg\n",
    "plt.hist(data['mpg'])"
   ]
  },
  {
   "cell_type": "code",
   "execution_count": 32,
   "id": "0a5a87c9",
   "metadata": {},
   "outputs": [
    {
     "data": {
      "text/plain": [
       "(array([ 3., 10., 40., 46., 65., 60., 67., 58., 39.,  9.]),\n",
       " array([2.19722458, 2.36166217, 2.52609977, 2.69053737, 2.85497496,\n",
       "        3.01941256, 3.18385016, 3.34828775, 3.51272535, 3.67716294,\n",
       "        3.84160054]),\n",
       " <BarContainer object of 10 artists>)"
      ]
     },
     "execution_count": 32,
     "metadata": {},
     "output_type": "execute_result"
    },
    {
     "data": {
      "image/png": "[encoded data removed]",
      "text/plain": [
       "<Figure size 432x288 with 1 Axes>"
      ]
     },
     "metadata": {
      "needs_background": "light"
     },
     "output_type": "display_data"
    }
   ],
   "source": [
    "#log transform\n",
    "log_mpg= np.log(data['mpg'])\n",
    "plt.hist(log_mpg)\n"
   ]
  },
  {
   "cell_type": "code",
   "execution_count": 33,
   "id": "949846ee",
   "metadata": {},
   "outputs": [
    {
     "name": "stdout",
     "output_type": "stream",
     "text": [
      "Lambda value used for Transformation: 0.20339134822540325\n"
     ]
    },
    {
     "name": "stderr",
     "output_type": "stream",
     "text": [
      "/Users/hashiniwanniarachchi/opt/anaconda3/lib/python3.9/site-packages/seaborn/distributions.py:2619: FutureWarning: `distplot` is a deprecated function and will be removed in a future version. Please adapt your code to use either `displot` (a figure-level function with similar flexibility) or `kdeplot` (an axes-level function for kernel density plots).\n",
      "  warnings.warn(msg, FutureWarning)\n",
      "/Users/hashiniwanniarachchi/opt/anaconda3/lib/python3.9/site-packages/seaborn/distributions.py:2619: FutureWarning: `distplot` is a deprecated function and will be removed in a future version. Please adapt your code to use either `displot` (a figure-level function with similar flexibility) or `kdeplot` (an axes-level function for kernel density plots).\n",
      "  warnings.warn(msg, FutureWarning)\n"
     ]
    },
    {
     "data": {
      "image/png": "[encoded data removed]",
      "text/plain": [
       "<Figure size 720x360 with 2 Axes>"
      ]
     },
     "metadata": {
      "needs_background": "light"
     },
     "output_type": "display_data"
    }
   ],
   "source": [
    "fitted_data, fitted_lambda = stats.boxcox(data['mpg'])\n",
    "\n",
    "fig, ax = plt.subplots(1,2)\n",
    "\n",
    "sns.distplot(data['mpg'], hist=False, kde = True,\n",
    "            kde_kws = {'shade': True, 'linewidth': 2},\n",
    "            label = \"Non-Normal\", color =\"green\", ax = ax[0])\n",
    "\n",
    "\n",
    "sns.distplot(fitted_data, hist= False, kde = True,\n",
    "             kde_kws={'shade': True, 'linewidth':2},\n",
    "             label=\"Normal\", color = 'green', ax = ax[1])\n",
    "\n",
    "# adding legends to the subplots\n",
    "plt.legend(loc = \"upper right\")\n",
    " \n",
    "# rescaling the subplots\n",
    "fig.set_figheight(5)\n",
    "fig.set_figwidth(10)\n",
    " \n",
    "print(f\"Lambda value used for Transformation: {fitted_lambda}\")"
   ]
  },
  {
   "cell_type": "markdown",
   "id": "7e3b05f1",
   "metadata": {},
   "source": [
    "#  Model 1-Linear Regression"
   ]
  },
  {
   "cell_type": "code",
   "execution_count": 34,
   "id": "2c06c05b",
   "metadata": {},
   "outputs": [],
   "source": [
    "from sklearn.model_selection import train_test_split\n",
    "from sklearn.linear_model import LinearRegression"
   ]
  },
  {
   "cell_type": "code",
   "execution_count": 35,
   "id": "df8276dd",
   "metadata": {},
   "outputs": [
    {
     "name": "stdout",
     "output_type": "stream",
     "text": [
      "<class 'pandas.core.frame.DataFrame'>\n",
      "RangeIndex: 397 entries, 0 to 396\n",
      "Data columns (total 9 columns):\n",
      " #   Column        Non-Null Count  Dtype  \n",
      "---  ------        --------------  -----  \n",
      " 0   mpg           397 non-null    float64\n",
      " 1   Cylinders     397 non-null    int64  \n",
      " 2   Displacement  397 non-null    float64\n",
      " 3   Horsepower    397 non-null    object \n",
      " 4   Weight        397 non-null    int64  \n",
      " 5   Acceleration  397 non-null    float64\n",
      " 6   Year          397 non-null    int64  \n",
      " 7   Origin        397 non-null    int64  \n",
      " 8   Name          397 non-null    object \n",
      "dtypes: float64(3), int64(4), object(2)\n",
      "memory usage: 28.0+ KB\n"
     ]
    }
   ],
   "source": [
    "data.info()"
   ]
  },
  {
   "cell_type": "code",
   "execution_count": 36,
   "id": "9b329f13",
   "metadata": {},
   "outputs": [
    {
     "data": {
      "text/plain": [
       "array(['165', '150', '140', '198', '220', '215', '225', '190', '170',\n",
       "       '160', '95', '97', '85', '88', '46', '87', '90', '113', '200',\n",
       "       '210', '193', '?', '100', '105', '175', '153', '180', '110', '72',\n",
       "       '86', '70', '76', '65', '69', '60', '80', '54', '208', '155',\n",
       "       '130', '112', '92', '145', '137', '158', '167', '94', '107', '230',\n",
       "       '49', '75', '91', '122', '67', '83', '78', '52', '61', '93', '148',\n",
       "       '129', '96', '71', '98', '115', '53', '81', '79', '120', '152',\n",
       "       '102', '108', '68', '58', '149', '89', '63', '48', '66', '139',\n",
       "       '103', '125', '133', '138', '135', '142', '77', '62', '132', '84',\n",
       "       '64', '74', '116', '82'], dtype=object)"
      ]
     },
     "execution_count": 36,
     "metadata": {},
     "output_type": "execute_result"
    }
   ],
   "source": [
    "data['Horsepower'].unique()"
   ]
  },
  {
   "cell_type": "code",
   "execution_count": 37,
   "id": "f2d0abce",
   "metadata": {},
   "outputs": [
    {
     "data": {
      "text/plain": [
       "(391, 9)"
      ]
     },
     "execution_count": 37,
     "metadata": {},
     "output_type": "execute_result"
    }
   ],
   "source": [
    "# dropping possible NAN and '?'\n",
    "data.dropna(inplace = True)\n",
    " \n",
    "data = data.loc[data[\"Horsepower\"] != '?']\n",
    "data.shape"
   ]
  },
  {
   "cell_type": "code",
   "execution_count": 38,
   "id": "1a69e992",
   "metadata": {},
   "outputs": [
    {
     "data": {
      "text/html": [
       "<div>\n",
       "<style scoped>\n",
       "    .dataframe tbody tr th:only-of-type {\n",
       "        vertical-align: middle;\n",
       "    }\n",
       "\n",
       "    .dataframe tbody tr th {\n",
       "        vertical-align: top;\n",
       "    }\n",
       "\n",
       "    .dataframe thead th {\n",
       "        text-align: right;\n",
       "    }\n",
       "</style>\n",
       "<table border=\"1\" class=\"dataframe\">\n",
       "  <thead>\n",
       "    <tr style=\"text-align: right;\">\n",
       "      <th></th>\n",
       "      <th>Cylinders</th>\n",
       "      <th>Displacement</th>\n",
       "      <th>Weight</th>\n",
       "      <th>Acceleration</th>\n",
       "      <th>Year</th>\n",
       "      <th>Origin</th>\n",
       "    </tr>\n",
       "  </thead>\n",
       "  <tbody>\n",
       "    <tr>\n",
       "      <th>count</th>\n",
       "      <td>391.000000</td>\n",
       "      <td>391.000000</td>\n",
       "      <td>391.000000</td>\n",
       "      <td>391.000000</td>\n",
       "      <td>391.000000</td>\n",
       "      <td>391.000000</td>\n",
       "    </tr>\n",
       "    <tr>\n",
       "      <th>mean</th>\n",
       "      <td>5.465473</td>\n",
       "      <td>194.124041</td>\n",
       "      <td>2976.237852</td>\n",
       "      <td>15.550384</td>\n",
       "      <td>75.994885</td>\n",
       "      <td>1.578005</td>\n",
       "    </tr>\n",
       "    <tr>\n",
       "      <th>std</th>\n",
       "      <td>1.703152</td>\n",
       "      <td>104.622462</td>\n",
       "      <td>850.071941</td>\n",
       "      <td>2.756557</td>\n",
       "      <td>3.675975</td>\n",
       "      <td>0.806020</td>\n",
       "    </tr>\n",
       "    <tr>\n",
       "      <th>min</th>\n",
       "      <td>3.000000</td>\n",
       "      <td>68.000000</td>\n",
       "      <td>1613.000000</td>\n",
       "      <td>8.000000</td>\n",
       "      <td>70.000000</td>\n",
       "      <td>1.000000</td>\n",
       "    </tr>\n",
       "    <tr>\n",
       "      <th>25%</th>\n",
       "      <td>4.000000</td>\n",
       "      <td>105.000000</td>\n",
       "      <td>2224.500000</td>\n",
       "      <td>13.800000</td>\n",
       "      <td>73.000000</td>\n",
       "      <td>1.000000</td>\n",
       "    </tr>\n",
       "    <tr>\n",
       "      <th>50%</th>\n",
       "      <td>4.000000</td>\n",
       "      <td>151.000000</td>\n",
       "      <td>2800.000000</td>\n",
       "      <td>15.500000</td>\n",
       "      <td>76.000000</td>\n",
       "      <td>1.000000</td>\n",
       "    </tr>\n",
       "    <tr>\n",
       "      <th>75%</th>\n",
       "      <td>8.000000</td>\n",
       "      <td>264.500000</td>\n",
       "      <td>3616.500000</td>\n",
       "      <td>17.050000</td>\n",
       "      <td>79.000000</td>\n",
       "      <td>2.000000</td>\n",
       "    </tr>\n",
       "    <tr>\n",
       "      <th>max</th>\n",
       "      <td>8.000000</td>\n",
       "      <td>455.000000</td>\n",
       "      <td>5140.000000</td>\n",
       "      <td>24.800000</td>\n",
       "      <td>82.000000</td>\n",
       "      <td>3.000000</td>\n",
       "    </tr>\n",
       "  </tbody>\n",
       "</table>\n",
       "</div>"
      ],
      "text/plain": [
       "        Cylinders  Displacement       Weight  Acceleration        Year  \\\n",
       "count  391.000000    391.000000   391.000000    391.000000  391.000000   \n",
       "mean     5.465473    194.124041  2976.237852     15.550384   75.994885   \n",
       "std      1.703152    104.622462   850.071941      2.756557    3.675975   \n",
       "min      3.000000     68.000000  1613.000000      8.000000   70.000000   \n",
       "25%      4.000000    105.000000  2224.500000     13.800000   73.000000   \n",
       "50%      4.000000    151.000000  2800.000000     15.500000   76.000000   \n",
       "75%      8.000000    264.500000  3616.500000     17.050000   79.000000   \n",
       "max      8.000000    455.000000  5140.000000     24.800000   82.000000   \n",
       "\n",
       "           Origin  \n",
       "count  391.000000  \n",
       "mean     1.578005  \n",
       "std      0.806020  \n",
       "min      1.000000  \n",
       "25%      1.000000  \n",
       "50%      1.000000  \n",
       "75%      2.000000  \n",
       "max      3.000000  "
      ]
     },
     "execution_count": 38,
     "metadata": {},
     "output_type": "execute_result"
    }
   ],
   "source": [
    "#Descriptive Statistics for numberical variables. Origin probably have converted to a dummy variable previously\n",
    "num_features = data[['Cylinders','Displacement','Horsepower','Weight','Acceleration','Year','Origin']]\n",
    "num_features.describe()"
   ]
  },
  {
   "cell_type": "code",
   "execution_count": 39,
   "id": "2902503b",
   "metadata": {},
   "outputs": [
    {
     "data": {
      "text/plain": [
       "<AxesSubplot:>"
      ]
     },
     "execution_count": 39,
     "metadata": {},
     "output_type": "execute_result"
    },
    {
     "data": {
      "image/png": "[encoded data removed]",
      "text/plain": [
       "<Figure size 432x288 with 1 Axes>"
      ]
     },
     "metadata": {
      "needs_background": "light"
     },
     "output_type": "display_data"
    }
   ],
   "source": [
    "num_features.boxplot()"
   ]
  },
  {
   "cell_type": "code",
   "execution_count": 40,
   "id": "cebc0810",
   "metadata": {},
   "outputs": [],
   "source": [
    "# Since the scale for the variables are off, I decided to standardize the variables using standard scaler\n",
    "\n",
    "from sklearn.preprocessing import StandardScaler\n",
    "scaler = StandardScaler()\n",
    "scaled_features=num_features[['Displacement','Horsepower','Weight','Acceleration','Year','Cylinders','Origin']]\n",
    "cat_features= num_features[['Cylinders','Origin', 'Year']]"
   ]
  },
  {
   "cell_type": "code",
   "execution_count": 41,
   "id": "91d4f2dd",
   "metadata": {},
   "outputs": [
    {
     "data": {
      "text/plain": [
       "<AxesSubplot:>"
      ]
     },
     "execution_count": 41,
     "metadata": {},
     "output_type": "execute_result"
    },
    {
     "data": {
      "image/png": "[encoded data removed]",
      "text/plain": [
       "<Figure size 432x288 with 1 Axes>"
      ]
     },
     "metadata": {
      "needs_background": "light"
     },
     "output_type": "display_data"
    }
   ],
   "source": [
    "df_scaled = pd.DataFrame(scaler.fit_transform(scaled_features),columns = scaled_features.columns)\n",
    "df_scaled.boxplot()"
   ]
  },
  {
   "cell_type": "code",
   "execution_count": 42,
   "id": "8297ea41",
   "metadata": {},
   "outputs": [
    {
     "data": {
      "text/plain": [
       "array([[<AxesSubplot:title={'center':'Cylinders'}>,\n",
       "        <AxesSubplot:title={'center':'Origin'}>],\n",
       "       [<AxesSubplot:title={'center':'Year'}>, <AxesSubplot:>]],\n",
       "      dtype=object)"
      ]
     },
     "execution_count": 42,
     "metadata": {},
     "output_type": "execute_result"
    },
    {
     "data": {
      "image/png": "[encoded data removed]",
      "text/plain": [
       "<Figure size 432x288 with 4 Axes>"
      ]
     },
     "metadata": {
      "needs_background": "light"
     },
     "output_type": "display_data"
    }
   ],
   "source": [
    "cat_features.hist()"
   ]
  },
  {
   "cell_type": "code",
   "execution_count": 43,
   "id": "8d4859d5",
   "metadata": {},
   "outputs": [],
   "source": [
    "scaled_features['Horsepower']=scaled_features['Horsepower'].astype(int)"
   ]
  },
  {
   "cell_type": "code",
   "execution_count": 44,
   "id": "bd2eeef0",
   "metadata": {},
   "outputs": [
    {
     "name": "stdout",
     "output_type": "stream",
     "text": [
      "<class 'pandas.core.frame.DataFrame'>\n",
      "Int64Index: 391 entries, 0 to 396\n",
      "Data columns (total 7 columns):\n",
      " #   Column        Non-Null Count  Dtype  \n",
      "---  ------        --------------  -----  \n",
      " 0   Displacement  391 non-null    float64\n",
      " 1   Horsepower    391 non-null    int64  \n",
      " 2   Weight        391 non-null    int64  \n",
      " 3   Acceleration  391 non-null    float64\n",
      " 4   Year          391 non-null    int64  \n",
      " 5   Cylinders     391 non-null    int64  \n",
      " 6   Origin        391 non-null    int64  \n",
      "dtypes: float64(2), int64(5)\n",
      "memory usage: 24.4 KB\n"
     ]
    }
   ],
   "source": [
    "X= scaled_features\n",
    "y= data.iloc[:,0]\n",
    "\n",
    "#Cleaned data for the model\n",
    "X.info()"
   ]
  },
  {
   "cell_type": "code",
   "execution_count": 45,
   "id": "916e9838",
   "metadata": {},
   "outputs": [],
   "source": [
    "#Splitting data into train and test set\n",
    "X_train, X_test, y_train, y_test = train_test_split(X, y, test_size=0.3, random_state=42)"
   ]
  },
  {
   "cell_type": "code",
   "execution_count": 46,
   "id": "ef930e1b",
   "metadata": {},
   "outputs": [],
   "source": [
    "lr= LinearRegression()\n",
    "model=lr.fit(X_train,y_train)"
   ]
  },
  {
   "cell_type": "code",
   "execution_count": 47,
   "id": "6d406700",
   "metadata": {},
   "outputs": [
    {
     "name": "stdout",
     "output_type": "stream",
     "text": [
      "coefficient of determination: 0.8256216185691592\n",
      "intercept: -16.877740405699072\n",
      "slope: [ 0.01407737 -0.01931856 -0.0067647   0.09510073  0.74618466 -0.06037084\n",
      "  1.28220935]\n"
     ]
    }
   ],
   "source": [
    "# Obtain the coefficient of determination by calling the model with the score() function, then print the coefficient:\n",
    "r_sq = model.score(X_train, y_train)\n",
    "print('coefficient of determination:', r_sq)\n",
    "\n",
    "# Print the Intercept:\n",
    "print('intercept:', model.intercept_)\n",
    "\n",
    "# Print the Slope:\n",
    "print('slope:', model.coef_) \n",
    "\n",
    "# Predict a Response and print it:\n",
    "y_pred = model.predict(X_train)\n",
    "#print('Predicted response:', y_pred, sep='\\n')"
   ]
  },
  {
   "cell_type": "code",
   "execution_count": 48,
   "id": "cfa7f5b7",
   "metadata": {},
   "outputs": [
    {
     "name": "stdout",
     "output_type": "stream",
     "text": [
      "Model is : mpg = -16.877740405699072 Displacement + 0.014077365205910252 Horsepower -0.01931855575555877 Weight-0.006764696724213742 Acceleration0.09510072704417658 Year0.7461846558116154 Year-0.060370835474406796 Cylinders-0.01931855575555877 Origin\n"
     ]
    }
   ],
   "source": [
    "print('Model is : mpg = ' + str(model.intercept_) + ' Displacement + '+ str(model.coef_[0])+' Horsepower ' \n",
    "      +str(model.coef_[1])+ ' Weight'+str(model.coef_[2])+ ' Acceleration'+str(model.coef_[3])+ ' Year'+str(model.coef_[4])\n",
    "      + ' Year'+str(model.coef_[5])+ ' Cylinders'+str(model.coef_[1])+ ' Origin')"
   ]
  },
  {
   "cell_type": "code",
   "execution_count": 49,
   "id": "2407a6b9",
   "metadata": {},
   "outputs": [
    {
     "name": "stdout",
     "output_type": "stream",
     "text": [
      "Mean absolute error = 2.65\n",
      "Mean squared error = 11.8\n",
      "Median absolute error = 2.01\n",
      "Explain variance score = 0.81\n",
      "R2 score = 0.8\n"
     ]
    }
   ],
   "source": [
    "#Evaluating model parameters\n",
    "\n",
    "y_test_pred= model.predict(X_test)\n",
    "import sklearn.metrics as sm1\n",
    "\n",
    "\n",
    "print(\"Mean absolute error =\", round(sm1.mean_absolute_error(y_test, y_test_pred), 2)) \n",
    "print(\"Mean squared error =\", round(sm1.mean_squared_error(y_test, y_test_pred), 2)) \n",
    "print(\"Median absolute error =\", round(sm1.median_absolute_error(y_test, y_test_pred), 2)) \n",
    "print(\"Explain variance score =\", round(sm1.explained_variance_score(y_test, y_test_pred), 2)) \n",
    "print(\"R2 score =\", round(sm.r2_score(y_test, y_test_pred), 2))\n"
   ]
  },
  {
   "cell_type": "markdown",
   "id": "2913f5b8",
   "metadata": {},
   "source": [
    "# Model 2-Ridge Regression"
   ]
  },
  {
   "cell_type": "code",
   "execution_count": 50,
   "id": "aa094157",
   "metadata": {},
   "outputs": [],
   "source": [
    "from sklearn.linear_model import Ridge"
   ]
  },
  {
   "cell_type": "code",
   "execution_count": 51,
   "id": "438abef7",
   "metadata": {},
   "outputs": [],
   "source": [
    "clf = Ridge(alpha=0.1)\n",
    "mor= clf.fit(X_train, y_train)"
   ]
  },
  {
   "cell_type": "code",
   "execution_count": 52,
   "id": "ebd3a437",
   "metadata": {},
   "outputs": [
    {
     "name": "stdout",
     "output_type": "stream",
     "text": [
      "coefficient of determination: 0.8256216089588333\n",
      "intercept: -16.874071122654925\n",
      "slope: [ 0.01406458 -0.01930521 -0.00676489  0.09509254  0.74616767 -0.06012755\n",
      "  1.28098541]\n"
     ]
    }
   ],
   "source": [
    "# Obtain the coefficient of determination by calling the model with the score() function, then print the coefficient:\n",
    "r_sq = mor.score(X_train, y_train)\n",
    "print('coefficient of determination:', r_sq)\n",
    "\n",
    "# Print the Intercept:\n",
    "print('intercept:', mor.intercept_)\n",
    "\n",
    "# Print the Slope:\n",
    "print('slope:', mor.coef_) \n",
    "\n",
    "# Predict a Response and print it:\n",
    "y_pred = mor.predict(X_train)\n",
    "#print('Predicted response:', y_pred, sep='\\n')"
   ]
  },
  {
   "cell_type": "code",
   "execution_count": 53,
   "id": "c72af692",
   "metadata": {},
   "outputs": [
    {
     "name": "stdout",
     "output_type": "stream",
     "text": [
      "Mean absolute error = 2.65\n",
      "Mean squared error = 11.8\n",
      "Median absolute error = 2.01\n",
      "Explain variance score = 0.81\n",
      "R2 score = 0.8\n"
     ]
    }
   ],
   "source": [
    "#model evaluation\n",
    "y_test_pred= mor.predict(X_test)\n",
    "import sklearn.metrics as sm\n",
    "print(\"Mean absolute error =\", round(sm.mean_absolute_error(y_test, y_test_pred), 2)) \n",
    "print(\"Mean squared error =\", round(sm.mean_squared_error(y_test, y_test_pred), 2)) \n",
    "print(\"Median absolute error =\", round(sm.median_absolute_error(y_test, y_test_pred), 2)) \n",
    "print(\"Explain variance score =\", round(sm.explained_variance_score(y_test, y_test_pred), 2)) \n",
    "print(\"R2 score =\", round(sm.r2_score(y_test, y_test_pred), 2))"
   ]
  },
  {
   "cell_type": "code",
   "execution_count": 54,
   "id": "8b1873f4",
   "metadata": {},
   "outputs": [
    {
     "data": {
      "text/plain": [
       "'\\nfrom scipy.special import inv_boxcox\\ny_pred_real=inv_boxcox(y_test_pred, fitted_lambda)\\ny_test1=inv_boxcox(y_test, fitted_lambda)\\n'"
      ]
     },
     "execution_count": 54,
     "metadata": {},
     "output_type": "execute_result"
    }
   ],
   "source": [
    "'''\n",
    "from scipy.special import inv_boxcox\n",
    "y_pred_real=inv_boxcox(y_test_pred, fitted_lambda)\n",
    "y_test1=inv_boxcox(y_test, fitted_lambda)\n",
    "'''"
   ]
  },
  {
   "cell_type": "code",
   "execution_count": 55,
   "id": "61a30a7d",
   "metadata": {},
   "outputs": [
    {
     "data": {
      "text/plain": [
       "'\\ny_pred_real.shape\\n'"
      ]
     },
     "execution_count": 55,
     "metadata": {},
     "output_type": "execute_result"
    }
   ],
   "source": [
    "'''\n",
    "y_pred_real.shape\n",
    "'''"
   ]
  },
  {
   "cell_type": "code",
   "execution_count": 56,
   "id": "4017bfae",
   "metadata": {},
   "outputs": [
    {
     "data": {
      "text/plain": [
       "'\\ny_test_no_transform.shape\\n'"
      ]
     },
     "execution_count": 56,
     "metadata": {},
     "output_type": "execute_result"
    }
   ],
   "source": [
    "'''\n",
    "y_test_no_transform.shape\n",
    "'''"
   ]
  },
  {
   "cell_type": "code",
   "execution_count": 57,
   "id": "8c99ab50",
   "metadata": {},
   "outputs": [
    {
     "data": {
      "text/plain": [
       "'\\npredicted= pd.DataFrame([y_pred_real,y_test_no_transform,y_test1]).T\\nprint(predicted)\\n'"
      ]
     },
     "execution_count": 57,
     "metadata": {},
     "output_type": "execute_result"
    }
   ],
   "source": [
    "'''\n",
    "predicted= pd.DataFrame([y_pred_real,y_test_no_transform,y_test1]).T\n",
    "print(predicted)\n",
    "'''"
   ]
  },
  {
   "cell_type": "markdown",
   "id": "b906de91",
   "metadata": {},
   "source": [
    "# Model 3-Lasso Regression"
   ]
  },
  {
   "cell_type": "code",
   "execution_count": 58,
   "id": "9c9a0678",
   "metadata": {},
   "outputs": [],
   "source": [
    "from sklearn.linear_model import Lasso"
   ]
  },
  {
   "cell_type": "code",
   "execution_count": 59,
   "id": "5f8638b7",
   "metadata": {},
   "outputs": [],
   "source": [
    "cll = Lasso(alpha=0.1)\n",
    "mor= cll.fit(X_train, y_train)"
   ]
  },
  {
   "cell_type": "code",
   "execution_count": 60,
   "id": "530edd23",
   "metadata": {},
   "outputs": [
    {
     "name": "stdout",
     "output_type": "stream",
     "text": [
      "coefficient of determination: 0.8251082469264684\n",
      "intercept: -15.19025764042528\n",
      "slope: [ 0.01072188 -0.01874867 -0.00670707  0.06438736  0.73694621 -0.\n",
      "  1.01766726]\n"
     ]
    }
   ],
   "source": [
    "# Obtain the coefficient of determination by calling the model with the score() function, then print the coefficient:\n",
    "r_sq = mor.score(X_train, y_train)\n",
    "print('coefficient of determination:', r_sq)\n",
    "\n",
    "# Print the Intercept:\n",
    "print('intercept:', mor.intercept_)\n",
    "\n",
    "# Print the Slope:\n",
    "print('slope:', mor.coef_) \n",
    "\n",
    "# Predict a Response and print it:\n",
    "y_pred = mor.predict(X_train)\n",
    "#print('Predicted response:', y_pred, sep='\\n')"
   ]
  },
  {
   "cell_type": "code",
   "execution_count": 61,
   "id": "6793c143",
   "metadata": {},
   "outputs": [
    {
     "name": "stdout",
     "output_type": "stream",
     "text": [
      "Mean absolute error = 2.68\n",
      "Mean squared error = 11.93\n",
      "Median absolute error = 2.04\n",
      "Explain variance score = 0.81\n",
      "R2 score = 0.8\n"
     ]
    }
   ],
   "source": [
    "#model evaluation\n",
    "y_test_pred= mor.predict(X_test)\n",
    "import sklearn.metrics as sm\n",
    "print(\"Mean absolute error =\", round(sm.mean_absolute_error(y_test, y_test_pred), 2)) \n",
    "print(\"Mean squared error =\", round(sm.mean_squared_error(y_test, y_test_pred), 2)) \n",
    "print(\"Median absolute error =\", round(sm.median_absolute_error(y_test, y_test_pred), 2)) \n",
    "print(\"Explain variance score =\", round(sm.explained_variance_score(y_test, y_test_pred), 2)) \n",
    "print(\"R2 score =\", round(sm.r2_score(y_test, y_test_pred), 2))"
   ]
  },
  {
   "cell_type": "markdown",
   "id": "6f69a681",
   "metadata": {},
   "source": [
    "#  Model 4-using boxcox values"
   ]
  },
  {
   "cell_type": "code",
   "execution_count": 62,
   "id": "ecf3668d",
   "metadata": {},
   "outputs": [],
   "source": [
    "fitted_data, fitted_lambda = stats.boxcox(data['mpg'])\n",
    "y_t=fitted_data"
   ]
  },
  {
   "cell_type": "code",
   "execution_count": 63,
   "id": "5dcb5ad6",
   "metadata": {},
   "outputs": [],
   "source": [
    "X_train, X_test, y_train, y_test = train_test_split(\n",
    "...     X, y_t, test_size=0.3, random_state=42)"
   ]
  },
  {
   "cell_type": "code",
   "execution_count": 64,
   "id": "eee390c2",
   "metadata": {},
   "outputs": [],
   "source": [
    "lr= LinearRegression()\n",
    "model=lr.fit(X_train,y_train)"
   ]
  },
  {
   "cell_type": "code",
   "execution_count": 65,
   "id": "f5947b3e",
   "metadata": {},
   "outputs": [
    {
     "name": "stdout",
     "output_type": "stream",
     "text": [
      "coefficient of determination: 0.8781058202771481\n",
      "intercept: 1.6302901569561845\n",
      "slope: [ 0.00089098 -0.00277221 -0.00049951 -0.00043443  0.05607909 -0.01799219\n",
      "  0.07589064]\n"
     ]
    }
   ],
   "source": [
    "# Obtain the coefficient of determination by calling the model with the score() function, then print the coefficient:\n",
    "r_sq = model.score(X_train, y_train)\n",
    "print('coefficient of determination:', r_sq)\n",
    "\n",
    "# Print the Intercept:\n",
    "print('intercept:', model.intercept_)\n",
    "\n",
    "# Print the Slope:\n",
    "print('slope:', model.coef_) \n",
    "\n",
    "# Predict a Response and print it:\n",
    "y_pred = model.predict(X_train)\n",
    "#print('Predicted response:', y_pred, sep='\\n')"
   ]
  },
  {
   "cell_type": "code",
   "execution_count": 66,
   "id": "d037192b",
   "metadata": {},
   "outputs": [
    {
     "name": "stdout",
     "output_type": "stream",
     "text": [
      "Mean absolute error = 0.18\n",
      "Mean squared error = 0.06\n",
      "Median absolute error = 0.12\n",
      "Explain variance score = 0.85\n",
      "R2 score = 0.85\n"
     ]
    }
   ],
   "source": [
    "#model evaluation\n",
    "y_test_pred= model.predict(X_test)\n",
    "import sklearn.metrics as sm\n",
    "print(\"Mean absolute error =\", round(sm.mean_absolute_error(y_test, y_test_pred), 2)) \n",
    "print(\"Mean squared error =\", round(sm.mean_squared_error(y_test, y_test_pred), 2)) \n",
    "print(\"Median absolute error =\", round(sm.median_absolute_error(y_test, y_test_pred), 2)) \n",
    "print(\"Explain variance score =\", round(sm.explained_variance_score(y_test, y_test_pred), 2)) \n",
    "print(\"R2 score =\", round(sm.r2_score(y_test, y_test_pred), 2))"
   ]
  },
  {
   "cell_type": "markdown",
   "id": "ff805780",
   "metadata": {},
   "source": [
    "# Model 5-Feature Engineering"
   ]
  },
  {
   "cell_type": "code",
   "execution_count": 67,
   "id": "15ac14d9",
   "metadata": {},
   "outputs": [
    {
     "data": {
      "text/html": [
       "<div>\n",
       "<style scoped>\n",
       "    .dataframe tbody tr th:only-of-type {\n",
       "        vertical-align: middle;\n",
       "    }\n",
       "\n",
       "    .dataframe tbody tr th {\n",
       "        vertical-align: top;\n",
       "    }\n",
       "\n",
       "    .dataframe thead th {\n",
       "        text-align: right;\n",
       "    }\n",
       "</style>\n",
       "<table border=\"1\" class=\"dataframe\">\n",
       "  <thead>\n",
       "    <tr style=\"text-align: right;\">\n",
       "      <th></th>\n",
       "      <th>mpg</th>\n",
       "      <th>Cylinders</th>\n",
       "      <th>Displacement</th>\n",
       "      <th>Horsepower</th>\n",
       "      <th>Weight</th>\n",
       "      <th>Acceleration</th>\n",
       "      <th>Year</th>\n",
       "      <th>Origin</th>\n",
       "      <th>Name</th>\n",
       "      <th>wxa</th>\n",
       "    </tr>\n",
       "  </thead>\n",
       "  <tbody>\n",
       "    <tr>\n",
       "      <th>0</th>\n",
       "      <td>15.0</td>\n",
       "      <td>8</td>\n",
       "      <td>350.0</td>\n",
       "      <td>165</td>\n",
       "      <td>3693</td>\n",
       "      <td>11.5</td>\n",
       "      <td>70</td>\n",
       "      <td>1</td>\n",
       "      <td>buick skylark 320</td>\n",
       "      <td>42469.5</td>\n",
       "    </tr>\n",
       "    <tr>\n",
       "      <th>1</th>\n",
       "      <td>18.0</td>\n",
       "      <td>8</td>\n",
       "      <td>318.0</td>\n",
       "      <td>150</td>\n",
       "      <td>3436</td>\n",
       "      <td>11.0</td>\n",
       "      <td>70</td>\n",
       "      <td>1</td>\n",
       "      <td>plymouth satellite</td>\n",
       "      <td>37796.0</td>\n",
       "    </tr>\n",
       "    <tr>\n",
       "      <th>2</th>\n",
       "      <td>16.0</td>\n",
       "      <td>8</td>\n",
       "      <td>304.0</td>\n",
       "      <td>150</td>\n",
       "      <td>3433</td>\n",
       "      <td>12.0</td>\n",
       "      <td>70</td>\n",
       "      <td>1</td>\n",
       "      <td>amc rebel sst</td>\n",
       "      <td>41196.0</td>\n",
       "    </tr>\n",
       "    <tr>\n",
       "      <th>3</th>\n",
       "      <td>17.0</td>\n",
       "      <td>8</td>\n",
       "      <td>302.0</td>\n",
       "      <td>140</td>\n",
       "      <td>3449</td>\n",
       "      <td>10.5</td>\n",
       "      <td>70</td>\n",
       "      <td>1</td>\n",
       "      <td>ford torino</td>\n",
       "      <td>36214.5</td>\n",
       "    </tr>\n",
       "    <tr>\n",
       "      <th>4</th>\n",
       "      <td>15.0</td>\n",
       "      <td>8</td>\n",
       "      <td>429.0</td>\n",
       "      <td>198</td>\n",
       "      <td>4341</td>\n",
       "      <td>10.0</td>\n",
       "      <td>70</td>\n",
       "      <td>1</td>\n",
       "      <td>ford galaxie 500</td>\n",
       "      <td>43410.0</td>\n",
       "    </tr>\n",
       "  </tbody>\n",
       "</table>\n",
       "</div>"
      ],
      "text/plain": [
       "    mpg  Cylinders  Displacement Horsepower  Weight  Acceleration  Year  \\\n",
       "0  15.0          8         350.0        165    3693          11.5    70   \n",
       "1  18.0          8         318.0        150    3436          11.0    70   \n",
       "2  16.0          8         304.0        150    3433          12.0    70   \n",
       "3  17.0          8         302.0        140    3449          10.5    70   \n",
       "4  15.0          8         429.0        198    4341          10.0    70   \n",
       "\n",
       "   Origin                Name      wxa  \n",
       "0       1   buick skylark 320  42469.5  \n",
       "1       1  plymouth satellite  37796.0  \n",
       "2       1       amc rebel sst  41196.0  \n",
       "3       1         ford torino  36214.5  \n",
       "4       1    ford galaxie 500  43410.0  "
      ]
     },
     "execution_count": 67,
     "metadata": {},
     "output_type": "execute_result"
    }
   ],
   "source": [
    "data['wxa']= data['Weight']*data['Acceleration']\n",
    "data.head()"
   ]
  },
  {
   "cell_type": "code",
   "execution_count": 68,
   "id": "29f87fb8",
   "metadata": {},
   "outputs": [],
   "source": [
    "features=data[['Cylinders','Displacement','Horsepower','Year','Origin','wxa']]\n",
    "df_scaled = pd.DataFrame(scaler.fit_transform(features),columns = features.columns)"
   ]
  },
  {
   "cell_type": "code",
   "execution_count": 69,
   "id": "fa98a26b",
   "metadata": {},
   "outputs": [
    {
     "name": "stdout",
     "output_type": "stream",
     "text": [
      "<class 'pandas.core.frame.DataFrame'>\n",
      "RangeIndex: 391 entries, 0 to 390\n",
      "Data columns (total 6 columns):\n",
      " #   Column        Non-Null Count  Dtype  \n",
      "---  ------        --------------  -----  \n",
      " 0   Cylinders     391 non-null    float64\n",
      " 1   Displacement  391 non-null    float64\n",
      " 2   Horsepower    391 non-null    float64\n",
      " 3   Year          391 non-null    float64\n",
      " 4   Origin        391 non-null    float64\n",
      " 5   wxa           391 non-null    float64\n",
      "dtypes: float64(6)\n",
      "memory usage: 18.5 KB\n"
     ]
    }
   ],
   "source": [
    "X=df_scaled\n",
    "y=data.loc[:,'mpg']\n",
    "X.info()"
   ]
  },
  {
   "cell_type": "code",
   "execution_count": 70,
   "id": "994c480d",
   "metadata": {},
   "outputs": [],
   "source": [
    "X_train, X_test, y_train, y_test = train_test_split(\n",
    "...     X, y, test_size=0.3, random_state=42)"
   ]
  },
  {
   "cell_type": "code",
   "execution_count": 71,
   "id": "146a4530",
   "metadata": {},
   "outputs": [],
   "source": [
    "lr= LinearRegression()\n",
    "model=lr.fit(X_train,y_train)"
   ]
  },
  {
   "cell_type": "code",
   "execution_count": 72,
   "id": "3f736d25",
   "metadata": {},
   "outputs": [
    {
     "name": "stdout",
     "output_type": "stream",
     "text": [
      "coefficient of determination: 0.8111953324529706\n",
      "intercept: 23.572545058796184\n",
      "slope: [-0.37805351  0.08547572 -3.63141181  2.54557823  1.04557209 -2.28804342]\n"
     ]
    }
   ],
   "source": [
    " # Obtain the coefficient of determination by calling the model with the score() function, then print the coefficient:\n",
    "r_sq = model.score(X_train, y_train)\n",
    "print('coefficient of determination:', r_sq)\n",
    "\n",
    "# Print the Intercept:\n",
    "print('intercept:', model.intercept_)\n",
    "\n",
    "# Print the Slope:\n",
    "print('slope:', model.coef_) \n",
    "\n",
    "# Predict a Response and print it:\n",
    "y_pred = model.predict(X_train)\n",
    "#print('Predicted response:', y_pred, sep='\\n')"
   ]
  },
  {
   "cell_type": "code",
   "execution_count": 73,
   "id": "11dfb149",
   "metadata": {},
   "outputs": [
    {
     "name": "stdout",
     "output_type": "stream",
     "text": [
      "Mean absolute error = 2.55\n",
      "Mean squared error = 11.48\n",
      "Median absolute error = 1.92\n",
      "Explain variance score = 0.81\n",
      "R2 score = 0.81\n"
     ]
    }
   ],
   "source": [
    "y_test_pred= model.predict(X_test)\n",
    "import sklearn.metrics as sm\n",
    "print(\"Mean absolute error =\", round(sm.mean_absolute_error(y_test, y_test_pred), 2)) \n",
    "print(\"Mean squared error =\", round(sm.mean_squared_error(y_test, y_test_pred), 2)) \n",
    "print(\"Median absolute error =\", round(sm.median_absolute_error(y_test, y_test_pred), 2)) \n",
    "print(\"Explain variance score =\", round(sm.explained_variance_score(y_test, y_test_pred), 2)) \n",
    "print(\"R2 score =\", round(sm.r2_score(y_test, y_test_pred), 2))\n",
    "y_test_no_transform= y_test_pred"
   ]
  },
  {
   "cell_type": "markdown",
   "id": "12528c24",
   "metadata": {},
   "source": [
    "# Model 6 -Polynomial features"
   ]
  },
  {
   "cell_type": "code",
   "execution_count": 74,
   "id": "47bbd5ad",
   "metadata": {},
   "outputs": [],
   "source": [
    "from sklearn.preprocessing import PolynomialFeatures"
   ]
  },
  {
   "cell_type": "code",
   "execution_count": 75,
   "id": "de11856e",
   "metadata": {},
   "outputs": [
    {
     "data": {
      "text/html": [
       "<div>\n",
       "<style scoped>\n",
       "    .dataframe tbody tr th:only-of-type {\n",
       "        vertical-align: middle;\n",
       "    }\n",
       "\n",
       "    .dataframe tbody tr th {\n",
       "        vertical-align: top;\n",
       "    }\n",
       "\n",
       "    .dataframe thead th {\n",
       "        text-align: right;\n",
       "    }\n",
       "</style>\n",
       "<table border=\"1\" class=\"dataframe\">\n",
       "  <thead>\n",
       "    <tr style=\"text-align: right;\">\n",
       "      <th></th>\n",
       "      <th>Displacement</th>\n",
       "      <th>Horsepower</th>\n",
       "      <th>Weight</th>\n",
       "      <th>Acceleration</th>\n",
       "      <th>Year</th>\n",
       "      <th>Cylinders</th>\n",
       "      <th>Origin</th>\n",
       "    </tr>\n",
       "  </thead>\n",
       "  <tbody>\n",
       "    <tr>\n",
       "      <th>0</th>\n",
       "      <td>350.0</td>\n",
       "      <td>165</td>\n",
       "      <td>3693</td>\n",
       "      <td>11.5</td>\n",
       "      <td>70</td>\n",
       "      <td>8</td>\n",
       "      <td>1</td>\n",
       "    </tr>\n",
       "    <tr>\n",
       "      <th>1</th>\n",
       "      <td>318.0</td>\n",
       "      <td>150</td>\n",
       "      <td>3436</td>\n",
       "      <td>11.0</td>\n",
       "      <td>70</td>\n",
       "      <td>8</td>\n",
       "      <td>1</td>\n",
       "    </tr>\n",
       "    <tr>\n",
       "      <th>2</th>\n",
       "      <td>304.0</td>\n",
       "      <td>150</td>\n",
       "      <td>3433</td>\n",
       "      <td>12.0</td>\n",
       "      <td>70</td>\n",
       "      <td>8</td>\n",
       "      <td>1</td>\n",
       "    </tr>\n",
       "    <tr>\n",
       "      <th>3</th>\n",
       "      <td>302.0</td>\n",
       "      <td>140</td>\n",
       "      <td>3449</td>\n",
       "      <td>10.5</td>\n",
       "      <td>70</td>\n",
       "      <td>8</td>\n",
       "      <td>1</td>\n",
       "    </tr>\n",
       "    <tr>\n",
       "      <th>4</th>\n",
       "      <td>429.0</td>\n",
       "      <td>198</td>\n",
       "      <td>4341</td>\n",
       "      <td>10.0</td>\n",
       "      <td>70</td>\n",
       "      <td>8</td>\n",
       "      <td>1</td>\n",
       "    </tr>\n",
       "  </tbody>\n",
       "</table>\n",
       "</div>"
      ],
      "text/plain": [
       "   Displacement  Horsepower  Weight  Acceleration  Year  Cylinders  Origin\n",
       "0         350.0         165    3693          11.5    70          8       1\n",
       "1         318.0         150    3436          11.0    70          8       1\n",
       "2         304.0         150    3433          12.0    70          8       1\n",
       "3         302.0         140    3449          10.5    70          8       1\n",
       "4         429.0         198    4341          10.0    70          8       1"
      ]
     },
     "execution_count": 75,
     "metadata": {},
     "output_type": "execute_result"
    }
   ],
   "source": [
    "features=data[['Cylinders','Displacement','Weight','Acceleration','Horsepower','Year','Origin']]\n",
    "df_scaled = pd.DataFrame(scaler.fit_transform(features),columns = features.columns)\n",
    "X= scaled_features\n",
    "y= data.iloc[:,0]\n",
    "X.head()"
   ]
  },
  {
   "cell_type": "code",
   "execution_count": 76,
   "id": "bdee3a8d",
   "metadata": {},
   "outputs": [],
   "source": [
    "poly = PolynomialFeatures(degree=2, include_bias=False)\n",
    "poly_features = poly.fit_transform(X)"
   ]
  },
  {
   "cell_type": "code",
   "execution_count": 77,
   "id": "dd42b24b",
   "metadata": {},
   "outputs": [],
   "source": [
    "X_train, X_test, y_train, y_test = train_test_split(poly_features, y, test_size=0.3, random_state=42)"
   ]
  },
  {
   "cell_type": "code",
   "execution_count": 78,
   "id": "3607631e",
   "metadata": {},
   "outputs": [
    {
     "data": {
      "text/plain": [
       "LinearRegression()"
      ]
     },
     "execution_count": 78,
     "metadata": {},
     "output_type": "execute_result"
    }
   ],
   "source": [
    "poly_reg_model = LinearRegression()\n",
    "poly_reg_model.fit(X_train, y_train)"
   ]
  },
  {
   "cell_type": "code",
   "execution_count": 79,
   "id": "8c2fcef7",
   "metadata": {},
   "outputs": [
    {
     "data": {
      "text/plain": [
       "(35,)"
      ]
     },
     "execution_count": 79,
     "metadata": {},
     "output_type": "execute_result"
    }
   ],
   "source": [
    "# There are 35 coefficients coming from polynomial fit\n",
    "poly_reg_model.coef_.shape"
   ]
  },
  {
   "cell_type": "code",
   "execution_count": 80,
   "id": "eb417a02",
   "metadata": {},
   "outputs": [
    {
     "data": {
      "text/plain": [
       "2.8374731654481375"
      ]
     },
     "execution_count": 80,
     "metadata": {},
     "output_type": "execute_result"
    }
   ],
   "source": [
    "poly_reg_y_predicted = poly_reg_model.predict(X_test)\n",
    "from sklearn.metrics import mean_squared_error\n",
    "poly_reg_rmse = np.sqrt(mean_squared_error(y_test, poly_reg_y_predicted))\n",
    "poly_reg_rmse"
   ]
  },
  {
   "cell_type": "code",
   "execution_count": 81,
   "id": "3d99b47c",
   "metadata": {},
   "outputs": [
    {
     "name": "stdout",
     "output_type": "stream",
     "text": [
      "Mean absolute error = 2.08\n",
      "Mean squared error = 8.05\n",
      "Median absolute error = 1.44\n",
      "Explain variance score = 0.87\n",
      "R2 score = 0.87\n"
     ]
    }
   ],
   "source": [
    "poly_reg_y_predicted = poly_reg_model.predict(X_test)\n",
    "import sklearn.metrics as sm\n",
    "print(\"Mean absolute error =\", round(sm.mean_absolute_error(y_test, poly_reg_y_predicted), 2)) \n",
    "print(\"Mean squared error =\", round(sm.mean_squared_error(y_test, poly_reg_y_predicted), 2)) \n",
    "print(\"Median absolute error =\", round(sm.median_absolute_error(y_test, poly_reg_y_predicted), 2)) \n",
    "print(\"Explain variance score =\", round(sm.explained_variance_score(y_test, poly_reg_y_predicted), 2)) \n",
    "print(\"R2 score =\", round(sm.r2_score(y_test, poly_reg_y_predicted), 2))"
   ]
  },
  {
   "cell_type": "markdown",
   "id": "2d455bd5",
   "metadata": {},
   "source": [
    "\n",
    "# Observations, intepretations and Conclusion "
   ]
  },
  {
   "cell_type": "markdown",
   "id": "085cffcf",
   "metadata": {},
   "source": [
    "Considering all the models, the least mean squared error is coming from model with boxcox transformation (model 4) and polynomial features model (model 6). Miles per gallon has an impact from multiple features such as number of cylinders, acceleration, weight, displacement, origin of the vehicle, manufacturing year and horsepower"
   ]
  },
  {
   "cell_type": "markdown",
   "id": "5b7811a4",
   "metadata": {},
   "source": [
    "Linear regression and ridge regression doesnt show much differenece between them. "
   ]
  },
  {
   "cell_type": "markdown",
   "id": "85ee39f4",
   "metadata": {},
   "source": [
    "Polynomial regression have highest R square out of all the six models."
   ]
  },
  {
   "cell_type": "code",
   "execution_count": null,
   "id": "0fcc10a6",
   "metadata": {},
   "outputs": [],
   "source": []
  }
 ],
 "metadata": {
  "kernelspec": {
   "display_name": "Python 3 (ipykernel)",
   "language": "python",
   "name": "python3"
  },
  "language_info": {
   "codemirror_mode": {
    "name": "ipython",
    "version": 3
   },
   "file_extension": ".py",
   "mimetype": "text/x-python",
   "name": "python",
   "nbconvert_exporter": "python",
   "pygments_lexer": "ipython3",
   "version": "3.9.7"
  }
 },
 "nbformat": 4,
 "nbformat_minor": 5
}
